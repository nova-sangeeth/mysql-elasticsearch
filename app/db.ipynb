{
 "cells": [
  {
   "cell_type": "code",
   "execution_count": 68,
   "metadata": {},
   "outputs": [],
   "source": [
    "import random\n",
    "import string\n",
    "from typing import List\n",
    "from sqlalchemy import  create_engine, inspect\n",
    "from sqlalchemy.ext.declarative import declarative_base\n",
    "from sqlalchemy import Column, Integer, String, DateTime\n",
    "from sqlalchemy.orm import sessionmaker\n",
    "\n",
    "from app.data_generator import data_gen_sqla"
   ]
  },
  {
   "cell_type": "code",
   "execution_count": 15,
   "metadata": {},
   "outputs": [],
   "source": [
    "DATABASE_CONFIG = {\n",
    "    \"host\": \"localhost\",\n",
    "    \"port\": \"3306\",\n",
    "    \"user\": \"instaqp\",\n",
    "    \"password\": \"passw0rd\",\n",
    "    \"database\": \"instaqp\",\n",
    "    \"dialect\": \"mysql\",\n",
    "    \"connector\": \"mysqlconnector\"\n",
    "}\n"
   ]
  },
  {
   "cell_type": "code",
   "execution_count": 16,
   "metadata": {},
   "outputs": [],
   "source": [
    "Base = declarative_base()"
   ]
  },
  {
   "cell_type": "code",
   "execution_count": 17,
   "metadata": {},
   "outputs": [],
   "source": [
    "# es test model\n",
    "\n",
    "\n",
    "class Elasticsearch(Base):\n",
    "\n",
    "    __tablename__ = \"elasticsearch\"\n",
    "    __table_args__ = {\"extend_existing\": True}\n",
    "\n",
    "    id = Column(Integer, primary_key=True)\n",
    "    name = Column(String(255), nullable=False)\n",
    "    address = Column(String(255), nullable=False)\n",
    "    age = Column(Integer, nullable=True)\n",
    "\n",
    "    def __repr__(self) -> str:\n",
    "        return self.name\n"
   ]
  },
  {
   "cell_type": "code",
   "execution_count": 40,
   "metadata": {},
   "outputs": [],
   "source": [
    "SQLALCHEMY_DATABASE_URI = \"{}+{}://{}:{}@{}:{}/{}\".format(\n",
    "    DATABASE_CONFIG[\"dialect\"],\n",
    "    DATABASE_CONFIG[\"connector\"],\n",
    "    DATABASE_CONFIG[\"user\"],\n",
    "    DATABASE_CONFIG[\"password\"],\n",
    "    DATABASE_CONFIG[\"host\"],\n",
    "    DATABASE_CONFIG[\"port\"],\n",
    "    DATABASE_CONFIG[\"database\"],\n",
    ")\n",
    "engine = create_engine(SQLALCHEMY_DATABASE_URI)\n"
   ]
  },
  {
   "cell_type": "code",
   "execution_count": 41,
   "metadata": {},
   "outputs": [],
   "source": [
    "# CREATE THE TABLES\n",
    "Base.metadata.create_all(engine)"
   ]
  },
  {
   "cell_type": "code",
   "execution_count": 52,
   "metadata": {},
   "outputs": [],
   "source": [
    "Session = sessionmaker(bind=engine)\n",
    "session = Session()"
   ]
  },
  {
   "cell_type": "code",
   "execution_count": 53,
   "metadata": {},
   "outputs": [],
   "source": [
    "def data_gen_sqla(limit: int) -> List:\n",
    "    temp_data_store = []\n",
    "    for i in range(limit):\n",
    "        document = {\n",
    "            \"name\": \"\".join(random.choices(string.ascii_letters, k=15)),\n",
    "            \"address\": \"\".join(random.choices(string.ascii_letters, k=15)),\n",
    "            \"age\": random.randint(a=10, b=99),\n",
    "        }\n",
    "        temp_data_store.append(document)\n",
    "    return temp_data_store\n"
   ]
  },
  {
   "cell_type": "code",
   "execution_count": 55,
   "metadata": {},
   "outputs": [
    {
     "name": "stdout",
     "output_type": "stream",
     "text": [
      "{'name': 'bJtEqEbezmvnPmU', 'address': 'ASyAGCjjzZXKXmN', 'age': 39}\n",
      "{'name': 'mBOAswhgZiTavev', 'address': 'TvepmJBSBRlSMjH', 'age': 83}\n",
      "{'name': 'bsKgHEEdLhGfyFR', 'address': 'gdIBEVRMTmYKKjg', 'age': 89}\n",
      "{'name': 'cIvcOzdDBmUhDPR', 'address': 'yPzLRYTAQtYdaKz', 'age': 19}\n",
      "{'name': 'iVSwrSXFTJzEwbN', 'address': 'gZojGlIPBdVZKkl', 'age': 96}\n",
      "{'name': 'JtLDAarYhLmdpBk', 'address': 'sxSGRAcLFVKSCmw', 'age': 88}\n",
      "{'name': 'OQETspFHIsmMcvR', 'address': 'bVhPqinUDlpNeHG', 'age': 27}\n",
      "{'name': 'yiXnZqwGIGYPLGU', 'address': 'NSHVEjmnkmvlxeW', 'age': 96}\n",
      "{'name': 'zcLJWlssZUEQqWC', 'address': 'dZhleTguBxRiWaz', 'age': 92}\n",
      "{'name': 'TFuIrjUOOvTNJUj', 'address': 'gYvSiKcjaBaoypZ', 'age': 63}\n"
     ]
    }
   ],
   "source": [
    "data = data_gen_sqla(limit=10)\n",
    "for i in data:\n",
    "    print(i)\n",
    "    es_obj = Elasticsearch(name=i[\"name\"], address=i[\"address\"], age=i[\"age\"])\n",
    "    session.add_all([es_obj])\n",
    "    session.commit()"
   ]
  },
  {
   "cell_type": "code",
   "execution_count": 67,
   "metadata": {},
   "outputs": [
    {
     "name": "stdout",
     "output_type": "stream",
     "text": [
      "68\n",
      "39\n",
      "83\n",
      "89\n",
      "19\n",
      "96\n",
      "88\n",
      "27\n",
      "96\n",
      "92\n",
      "63\n"
     ]
    }
   ],
   "source": [
    "import json\n",
    "\n",
    "\n",
    "query = session.query(Elasticsearch)\n",
    "values = query.all()\n",
    "for i in values:\n",
    "    print(i.age)"
   ]
  },
  {
   "cell_type": "code",
   "execution_count": 71,
   "metadata": {},
   "outputs": [
    {
     "data": {
      "text/plain": [
       "['elasticsearch', 'elasticsearch_test', 'tags']"
      ]
     },
     "execution_count": 71,
     "metadata": {},
     "output_type": "execute_result"
    }
   ],
   "source": [
    "inspector = inspect(engine)\n",
    "inspector.get_schema_names()\n",
    "inspector.get_table_names()"
   ]
  },
  {
   "cell_type": "code",
   "execution_count": null,
   "metadata": {},
   "outputs": [],
   "source": []
  }
 ],
 "metadata": {
  "kernelspec": {
   "display_name": "Python 3 (ipykernel)",
   "language": "python",
   "name": "python3"
  },
  "orig_nbformat": 4
 },
 "nbformat": 4,
 "nbformat_minor": 2
}
